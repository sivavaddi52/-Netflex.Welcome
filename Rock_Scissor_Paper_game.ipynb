{
  "nbformat": 4,
  "nbformat_minor": 0,
  "metadata": {
    "colab": {
      "provenance": [],
      "authorship_tag": "ABX9TyNB5l0Jp0mO5FuWxw38ge0d",
      "include_colab_link": true
    },
    "kernelspec": {
      "name": "python3",
      "display_name": "Python 3"
    },
    "language_info": {
      "name": "python"
    }
  },
  "cells": [
    {
      "cell_type": "markdown",
      "metadata": {
        "id": "view-in-github",
        "colab_type": "text"
      },
      "source": [
        "<a href=\"https://colab.research.google.com/github/sivavaddi52/-Netflex.Welcome/blob/main/Rock_Scissor_Paper_game.ipynb\" target=\"_parent\"><img src=\"https://colab.research.google.com/assets/colab-badge.svg\" alt=\"Open In Colab\"/></a>"
      ]
    },
    {
      "cell_type": "markdown",
      "source": [
        "# Create the Rock Scissors paper game\n"
      ],
      "metadata": {
        "id": "xNHbPWXDRH_g"
      }
    },
    {
      "cell_type": "markdown",
      "source": [
        "import the random library\n"
      ],
      "metadata": {
        "id": "-evw4idvRdOL"
      }
    },
    {
      "cell_type": "code",
      "execution_count": 1,
      "metadata": {
        "id": "n2EfTHm6RGwY"
      },
      "outputs": [],
      "source": [
        "import random"
      ]
    },
    {
      "cell_type": "markdown",
      "source": [
        "create get choice function"
      ],
      "metadata": {
        "id": "nsT8VOBSRvEe"
      }
    },
    {
      "cell_type": "code",
      "source": [
        "def get_choice():\n",
        "  player_choice=input(\"Enter your choice(rock,paper,scissors):\")\n",
        "  options=['rock','paper','scissors']\n",
        "  computer_choice=random.choice(options)\n",
        "  choices={'player':player_choice,'computer':computer_choice}\n",
        "  return choices"
      ],
      "metadata": {
        "id": "z4a0GLimRrGz"
      },
      "execution_count": 8,
      "outputs": []
    },
    {
      "cell_type": "markdown",
      "source": [
        "create the winning finction"
      ],
      "metadata": {
        "id": "ueqqBcfJSl5_"
      }
    },
    {
      "cell_type": "code",
      "source": [
        "def wining(player,computer):\n",
        "  print(f\"You chose: {player}, Computer chose: {computer}\")\n",
        "  if player == computer:\n",
        "    return \"It is Tie!\"\n",
        "  elif player =='paper':\n",
        "    if computer == 'scissors':\n",
        "      return \"Scissor cuts the paper! You Lose.\"\n",
        "    else:\n",
        "      return \"Paper smasshes the rock! You win.\"\n",
        "  elif player == 'rock':\n",
        "    if computer == 'scissors':\n",
        "      return \"Rock smasshes the scissors! You win.\"\n",
        "    else:\n",
        "      return \"Paper smasshes the Rock! You Lose.\"\n",
        "  elif player == 'paper':\n",
        "    if computer == 'scissors':\n",
        "      return \"scissors cuts the paper! You Lose.\"\n",
        "    else:\n",
        "      return \"Paper smasshes the rock! You win\"\n",
        "  else :\n",
        "    return \"Invlalid option! Enter valid option\"\n",
        "\n",
        "choices = get_choice()\n",
        "result = wining(choices['player'],choices['computer'])\n",
        "print(result)"
      ],
      "metadata": {
        "colab": {
          "base_uri": "https://localhost:8080/"
        },
        "id": "5lgXIMycSjnR",
        "outputId": "bd00580b-4dec-4af9-dd67-c54507667501"
      },
      "execution_count": 12,
      "outputs": [
        {
          "output_type": "stream",
          "name": "stdout",
          "text": [
            "Enter your choice(rock,paper,scissors):asdfg\n",
            "You chose: asdfg, Computer chose: scissors\n",
            "Invlalid option! Enter valid option\n"
          ]
        }
      ]
    },
    {
      "cell_type": "code",
      "source": [],
      "metadata": {
        "id": "CI1BWo8_UwvL"
      },
      "execution_count": null,
      "outputs": []
    }
  ]
}